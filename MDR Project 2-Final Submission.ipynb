{
 "cells": [
  {
   "cell_type": "markdown",
   "metadata": {},
   "source": [
    "# Importing Useful Libraries"
   ]
  },
  {
   "cell_type": "code",
   "execution_count": 1,
   "metadata": {},
   "outputs": [],
   "source": [
    "import wfdb\n",
    "import numpy as np\n",
    "import matplotlib.pyplot as plt\n",
    "import pandas as pd\n",
    "from sklearn.model_selection import train_test_split\n",
    "from sklearn.metrics import classification_report, confusion_matrix,accuracy_score\n",
    "from sklearn.preprocessing import LabelEncoder\n",
    "from tensorflow.python.keras.utils import np_utils\n",
    "from tensorflow.python.keras.layers import Dense\n",
    "from tensorflow.python.keras.models import Sequential\n",
    "from tensorflow.python.keras.layers import BatchNormalization\n",
    "from keras.models import Sequential\n",
    "from keras.layers import Dense, Flatten, Dropout\n",
    "from tensorflow.keras.utils import to_categorical\n",
    "from keras.layers import Conv1D\n",
    "from keras.layers import Bidirectional, LSTM\n",
    "import scipy\n",
    "from keras.regularizers import l1,l2"
   ]
  },
  {
   "cell_type": "markdown",
   "metadata": {},
   "source": [
    "# Reading recorded ECG data"
   ]
  },
  {
   "cell_type": "code",
   "execution_count": 2,
   "metadata": {},
   "outputs": [
    {
     "data": {
      "text/plain": [
       "(31376,)"
      ]
     },
     "execution_count": 2,
     "metadata": {},
     "output_type": "execute_result"
    },
    {
     "data": {
      "image/png": "[encoded data removed]",
      "text/plain": [
       "<Figure size 432x288 with 1 Axes>"
      ]
     },
     "metadata": {
      "needs_background": "light"
     },
     "output_type": "display_data"
    }
   ],
   "source": [
    "recorded_data = np.loadtxt('ECG_Final_Data_Recording_V2.txt')\n",
    "plt.plot(recorded_data)\n",
    "recorded_data.shape"
   ]
  },
  {
   "cell_type": "markdown",
   "metadata": {},
   "source": [
    "# Slicing the data to get first 30000 data points"
   ]
  },
  {
   "cell_type": "code",
   "execution_count": 3,
   "metadata": {},
   "outputs": [],
   "source": [
    "r_data = recorded_data[:30000]"
   ]
  },
  {
   "cell_type": "code",
   "execution_count": 4,
   "metadata": {},
   "outputs": [
    {
     "data": {
      "text/plain": [
       "(30000,)"
      ]
     },
     "execution_count": 4,
     "metadata": {},
     "output_type": "execute_result"
    }
   ],
   "source": [
    "r_data.shape"
   ]
  },
  {
   "cell_type": "markdown",
   "metadata": {},
   "source": [
    "# Generating Training examples from our data"
   ]
  },
  {
   "cell_type": "code",
   "execution_count": 5,
   "metadata": {},
   "outputs": [],
   "source": [
    "training_examples =[]\n",
    "for i in range(24): \n",
    "    a= r_data[i*1250:(i+1)*1250]\n",
    "    training_examples.append(a)"
   ]
  },
  {
   "cell_type": "code",
   "execution_count": 6,
   "metadata": {},
   "outputs": [],
   "source": [
    "T_E= np.array(training_examples)"
   ]
  },
  {
   "cell_type": "code",
   "execution_count": 7,
   "metadata": {},
   "outputs": [
    {
     "data": {
      "text/plain": [
       "(24, 1250)"
      ]
     },
     "execution_count": 7,
     "metadata": {},
     "output_type": "execute_result"
    }
   ],
   "source": [
    "T_E.shape"
   ]
  },
  {
   "cell_type": "markdown",
   "metadata": {},
   "source": [
    "# Reading the abnormal ECG data from Incart dataset"
   ]
  },
  {
   "cell_type": "code",
   "execution_count": 8,
   "metadata": {},
   "outputs": [],
   "source": [
    "def get_data(files:list):\n",
    "    data = [] # empty list\n",
    "    for file_name in files:\n",
    "        path = 'Project_data/' + file_name\n",
    "        rec = wfdb.rdrecord(path)\n",
    "        ecg = rec.p_signal[:, 0]\n",
    "        ecg = scipy.fft.fft(ecg)\n",
    "        data.append(ecg)\n",
    "        \n",
    "    examples = []\n",
    "    for signal in data:\n",
    "        for i in range(24):\n",
    "            x = signal[i * 1250:(i + 1) * 1250] #total data points 30000 divided by 5 sec samling frequency that is 1250\n",
    "            examples.append(x)\n",
    "    return examples"
   ]
  },
  {
   "cell_type": "code",
   "execution_count": 9,
   "metadata": {},
   "outputs": [],
   "source": [
    "abnormal_data= get_data(['I21']) #I21 has following diseases: PVCs, APCs, atrial couplets, blocked APCs."
   ]
  },
  {
   "cell_type": "code",
   "execution_count": 10,
   "metadata": {},
   "outputs": [],
   "source": [
    "a_data = np.array(abnormal_data)"
   ]
  },
  {
   "cell_type": "code",
   "execution_count": 11,
   "metadata": {},
   "outputs": [
    {
     "data": {
      "text/plain": [
       "(24, 1250)"
      ]
     },
     "execution_count": 11,
     "metadata": {},
     "output_type": "execute_result"
    }
   ],
   "source": [
    "a_data.shape"
   ]
  },
  {
   "cell_type": "markdown",
   "metadata": {},
   "source": [
    "# Generating `X` features using both data's"
   ]
  },
  {
   "cell_type": "code",
   "execution_count": 12,
   "metadata": {},
   "outputs": [],
   "source": [
    "X= np.array([*T_E, *a_data])"
   ]
  },
  {
   "cell_type": "code",
   "execution_count": 13,
   "metadata": {},
   "outputs": [
    {
     "data": {
      "text/plain": [
       "(48, 1250)"
      ]
     },
     "execution_count": 13,
     "metadata": {},
     "output_type": "execute_result"
    }
   ],
   "source": [
    "X.shape"
   ]
  },
  {
   "cell_type": "markdown",
   "metadata": {},
   "source": [
    "# Generating `Y` labels using both data's"
   ]
  },
  {
   "cell_type": "code",
   "execution_count": 14,
   "metadata": {},
   "outputs": [
    {
     "data": {
      "text/plain": [
       "(48,)"
      ]
     },
     "execution_count": 14,
     "metadata": {},
     "output_type": "execute_result"
    }
   ],
   "source": [
    "labels = []\n",
    "for i in range(2):\n",
    "    for j in range(24):\n",
    "        labels.append(i)\n",
    "Y = np.array(labels)\n",
    "Y.shape"
   ]
  },
  {
   "cell_type": "markdown",
   "metadata": {},
   "source": [
    "# Shuflling the data "
   ]
  },
  {
   "cell_type": "code",
   "execution_count": 15,
   "metadata": {},
   "outputs": [],
   "source": [
    "from sklearn.utils import shuffle"
   ]
  },
  {
   "cell_type": "code",
   "execution_count": 16,
   "metadata": {},
   "outputs": [],
   "source": [
    "X,Y = shuffle(X,Y)"
   ]
  },
  {
   "cell_type": "markdown",
   "metadata": {},
   "source": [
    "# Splitting the data set into training and test set."
   ]
  },
  {
   "cell_type": "code",
   "execution_count": 17,
   "metadata": {},
   "outputs": [],
   "source": [
    "x_train, x_test, y_train, y_test = train_test_split(X,Y, test_size=0.3)"
   ]
  },
  {
   "cell_type": "markdown",
   "metadata": {},
   "source": [
    "# Neural Network Model for training"
   ]
  },
  {
   "cell_type": "markdown",
   "metadata": {},
   "source": [
    "## Model 1 without Regularization and Dropout\n",
    "\n",
    "\n",
    "Optimizer= Adam, \n",
    "Loss= Cross Entropy Loss, \n",
    "Number of Epochs= 150, \n",
    "Activation Function= Sigmoid"
   ]
  },
  {
   "cell_type": "code",
   "execution_count": 18,
   "metadata": {},
   "outputs": [],
   "source": [
    "prediction_model = Sequential()\n",
    "# Add the first layer\n",
    "prediction_model.add(Dense(96, activation='sigmoid',input_shape=(1250,), kernel_initializer='normal'))\n",
    "prediction_model.add(Dense(96, activation='sigmoid', kernel_initializer='normal'))\n",
    "prediction_model.add(Dense(96, activation='relu', kernel_initializer='normal'))\n",
    "prediction_model.add(Dense(96, activation='relu', kernel_initializer='normal'))\n",
    "prediction_model.add(Dense(2, activation='softmax', kernel_initializer='normal'))"
   ]
  },
  {
   "cell_type": "markdown",
   "metadata": {},
   "source": [
    "## Model 2 with Regularization and Dropout\n",
    "\n",
    "Optimizer= Adam, \n",
    "Loss= Cross Entropy Loss, \n",
    "Number of Epochs= 150, \n",
    "Activation Function= Relu\n",
    "Regularization parameter = 0.001, \n",
    "Drop out parameter = 0.3, \n"
   ]
  },
  {
   "cell_type": "code",
   "execution_count": 19,
   "metadata": {},
   "outputs": [],
   "source": [
    "prediction_model = Sequential()\n",
    "prediction_model.add(Dense(96, activation='relu',input_shape=(1250,), kernel_initializer='normal'))\n",
    "prediction_model.add(Dense(96, activation='relu', kernel_initializer='normal', kernel_regularizer=l1(0.001)))\n",
    "prediction_model.add(Dense(96, activation='relu', kernel_initializer='normal'))\n",
    "prediction_model.add(Dense(96, activation='sigmoid', kernel_initializer='normal'))\n",
    "prediction_model.add(Dropout(0.3))\n",
    "prediction_model.add(Dense(2, activation='softmax', kernel_initializer='normal'))"
   ]
  },
  {
   "cell_type": "code",
   "execution_count": 20,
   "metadata": {},
   "outputs": [
    {
     "name": "stdout",
     "output_type": "stream",
     "text": [
      "Epoch 1/150\n",
      "1/1 [==============================] - 1s 1s/step - loss: 1.0746 - accuracy: 0.5152 - val_loss: 0.8892 - val_accuracy: 1.0000\n",
      "Epoch 2/150\n",
      "1/1 [==============================] - 0s 46ms/step - loss: 0.8890 - accuracy: 0.9091 - val_loss: 0.7988 - val_accuracy: 1.0000\n",
      "Epoch 3/150\n",
      "1/1 [==============================] - 0s 48ms/step - loss: 0.7891 - accuracy: 0.9697 - val_loss: 0.7266 - val_accuracy: 1.0000\n",
      "Epoch 4/150\n",
      "1/1 [==============================] - 0s 46ms/step - loss: 0.6998 - accuracy: 1.0000 - val_loss: 0.6616 - val_accuracy: 1.0000\n",
      "Epoch 5/150\n",
      "1/1 [==============================] - 0s 45ms/step - loss: 0.6358 - accuracy: 1.0000 - val_loss: 0.6106 - val_accuracy: 1.0000\n",
      "Epoch 6/150\n",
      "1/1 [==============================] - 0s 44ms/step - loss: 0.5759 - accuracy: 1.0000 - val_loss: 0.5695 - val_accuracy: 1.0000\n",
      "Epoch 7/150\n",
      "1/1 [==============================] - 0s 47ms/step - loss: 0.5520 - accuracy: 1.0000 - val_loss: 0.5365 - val_accuracy: 1.0000\n",
      "Epoch 8/150\n",
      "1/1 [==============================] - 0s 48ms/step - loss: 0.5134 - accuracy: 1.0000 - val_loss: 0.5137 - val_accuracy: 1.0000\n",
      "Epoch 9/150\n",
      "1/1 [==============================] - 0s 46ms/step - loss: 0.4676 - accuracy: 1.0000 - val_loss: 0.4964 - val_accuracy: 1.0000\n",
      "Epoch 10/150\n",
      "1/1 [==============================] - 0s 46ms/step - loss: 0.4742 - accuracy: 1.0000 - val_loss: 0.4831 - val_accuracy: 1.0000\n",
      "Epoch 11/150\n",
      "1/1 [==============================] - 0s 48ms/step - loss: 0.4534 - accuracy: 1.0000 - val_loss: 0.4701 - val_accuracy: 1.0000\n",
      "Epoch 12/150\n",
      "1/1 [==============================] - 0s 47ms/step - loss: 0.4467 - accuracy: 1.0000 - val_loss: 0.4577 - val_accuracy: 1.0000\n",
      "Epoch 13/150\n",
      "1/1 [==============================] - 0s 47ms/step - loss: 0.4454 - accuracy: 1.0000 - val_loss: 0.4459 - val_accuracy: 1.0000\n",
      "Epoch 14/150\n",
      "1/1 [==============================] - 0s 47ms/step - loss: 0.4212 - accuracy: 1.0000 - val_loss: 0.4342 - val_accuracy: 1.0000\n",
      "Epoch 15/150\n",
      "1/1 [==============================] - 0s 46ms/step - loss: 0.4103 - accuracy: 1.0000 - val_loss: 0.4221 - val_accuracy: 1.0000\n",
      "Epoch 16/150\n",
      "1/1 [==============================] - 0s 47ms/step - loss: 0.4057 - accuracy: 1.0000 - val_loss: 0.4119 - val_accuracy: 1.0000\n",
      "Epoch 17/150\n",
      "1/1 [==============================] - 0s 46ms/step - loss: 0.3946 - accuracy: 1.0000 - val_loss: 0.4031 - val_accuracy: 1.0000\n",
      "Epoch 18/150\n",
      "1/1 [==============================] - 0s 45ms/step - loss: 0.3821 - accuracy: 1.0000 - val_loss: 0.3946 - val_accuracy: 1.0000\n",
      "Epoch 19/150\n",
      "1/1 [==============================] - 0s 47ms/step - loss: 0.3854 - accuracy: 1.0000 - val_loss: 0.3864 - val_accuracy: 1.0000\n",
      "Epoch 20/150\n",
      "1/1 [==============================] - 0s 49ms/step - loss: 0.3650 - accuracy: 1.0000 - val_loss: 0.3785 - val_accuracy: 1.0000\n",
      "Epoch 21/150\n",
      "1/1 [==============================] - 0s 47ms/step - loss: 0.3675 - accuracy: 1.0000 - val_loss: 0.3708 - val_accuracy: 1.0000\n",
      "Epoch 22/150\n",
      "1/1 [==============================] - 0s 47ms/step - loss: 0.3613 - accuracy: 1.0000 - val_loss: 0.3633 - val_accuracy: 1.0000\n",
      "Epoch 23/150\n",
      "1/1 [==============================] - 0s 46ms/step - loss: 0.3601 - accuracy: 1.0000 - val_loss: 0.3555 - val_accuracy: 1.0000\n",
      "Epoch 24/150\n",
      "1/1 [==============================] - 0s 47ms/step - loss: 0.3505 - accuracy: 1.0000 - val_loss: 0.3478 - val_accuracy: 1.0000\n",
      "Epoch 25/150\n",
      "1/1 [==============================] - 0s 45ms/step - loss: 0.3430 - accuracy: 1.0000 - val_loss: 0.3409 - val_accuracy: 1.0000\n",
      "Epoch 26/150\n",
      "1/1 [==============================] - 0s 49ms/step - loss: 0.3348 - accuracy: 1.0000 - val_loss: 0.3344 - val_accuracy: 1.0000\n",
      "Epoch 27/150\n",
      "1/1 [==============================] - 0s 49ms/step - loss: 0.3290 - accuracy: 1.0000 - val_loss: 0.3281 - val_accuracy: 1.0000\n",
      "Epoch 28/150\n",
      "1/1 [==============================] - 0s 45ms/step - loss: 0.3240 - accuracy: 1.0000 - val_loss: 0.3220 - val_accuracy: 1.0000\n",
      "Epoch 29/150\n",
      "1/1 [==============================] - 0s 45ms/step - loss: 0.3118 - accuracy: 1.0000 - val_loss: 0.3160 - val_accuracy: 1.0000\n",
      "Epoch 30/150\n",
      "1/1 [==============================] - 0s 46ms/step - loss: 0.3096 - accuracy: 1.0000 - val_loss: 0.3103 - val_accuracy: 1.0000\n",
      "Epoch 31/150\n",
      "1/1 [==============================] - 0s 46ms/step - loss: 0.3090 - accuracy: 1.0000 - val_loss: 0.3046 - val_accuracy: 1.0000\n",
      "Epoch 32/150\n",
      "1/1 [==============================] - 0s 48ms/step - loss: 0.3013 - accuracy: 1.0000 - val_loss: 0.2991 - val_accuracy: 1.0000\n",
      "Epoch 33/150\n",
      "1/1 [==============================] - 0s 47ms/step - loss: 0.2949 - accuracy: 1.0000 - val_loss: 0.2938 - val_accuracy: 1.0000\n",
      "Epoch 34/150\n",
      "1/1 [==============================] - 0s 49ms/step - loss: 0.2891 - accuracy: 1.0000 - val_loss: 0.2884 - val_accuracy: 1.0000\n",
      "Epoch 35/150\n",
      "1/1 [==============================] - 0s 47ms/step - loss: 0.2867 - accuracy: 1.0000 - val_loss: 0.2831 - val_accuracy: 1.0000\n",
      "Epoch 36/150\n",
      "1/1 [==============================] - 0s 46ms/step - loss: 0.2793 - accuracy: 1.0000 - val_loss: 0.2780 - val_accuracy: 1.0000\n",
      "Epoch 37/150\n",
      "1/1 [==============================] - 0s 45ms/step - loss: 0.2774 - accuracy: 1.0000 - val_loss: 0.2731 - val_accuracy: 1.0000\n",
      "Epoch 38/150\n",
      "1/1 [==============================] - 0s 60ms/step - loss: 0.2694 - accuracy: 1.0000 - val_loss: 0.2684 - val_accuracy: 1.0000\n",
      "Epoch 39/150\n",
      "1/1 [==============================] - 0s 45ms/step - loss: 0.2677 - accuracy: 1.0000 - val_loss: 0.2637 - val_accuracy: 1.0000\n",
      "Epoch 40/150\n",
      "1/1 [==============================] - 0s 46ms/step - loss: 0.2629 - accuracy: 1.0000 - val_loss: 0.2591 - val_accuracy: 1.0000\n",
      "Epoch 41/150\n",
      "1/1 [==============================] - 0s 46ms/step - loss: 0.2582 - accuracy: 1.0000 - val_loss: 0.2546 - val_accuracy: 1.0000\n",
      "Epoch 42/150\n",
      "1/1 [==============================] - 0s 45ms/step - loss: 0.2523 - accuracy: 1.0000 - val_loss: 0.2501 - val_accuracy: 1.0000\n",
      "Epoch 43/150\n",
      "1/1 [==============================] - 0s 46ms/step - loss: 0.2493 - accuracy: 1.0000 - val_loss: 0.2458 - val_accuracy: 1.0000\n",
      "Epoch 44/150\n",
      "1/1 [==============================] - 0s 47ms/step - loss: 0.2435 - accuracy: 1.0000 - val_loss: 0.2416 - val_accuracy: 1.0000\n",
      "Epoch 45/150\n",
      "1/1 [==============================] - 0s 51ms/step - loss: 0.2441 - accuracy: 1.0000 - val_loss: 0.2374 - val_accuracy: 1.0000\n",
      "Epoch 46/150\n",
      "1/1 [==============================] - 0s 46ms/step - loss: 0.2363 - accuracy: 1.0000 - val_loss: 0.2333 - val_accuracy: 1.0000\n",
      "Epoch 47/150\n",
      "1/1 [==============================] - 0s 44ms/step - loss: 0.2299 - accuracy: 1.0000 - val_loss: 0.2292 - val_accuracy: 1.0000\n",
      "Epoch 48/150\n",
      "1/1 [==============================] - 0s 43ms/step - loss: 0.2299 - accuracy: 1.0000 - val_loss: 0.2252 - val_accuracy: 1.0000\n",
      "Epoch 49/150\n",
      "1/1 [==============================] - 0s 52ms/step - loss: 0.2273 - accuracy: 1.0000 - val_loss: 0.2213 - val_accuracy: 1.0000\n",
      "Epoch 50/150\n",
      "1/1 [==============================] - 0s 51ms/step - loss: 0.2219 - accuracy: 1.0000 - val_loss: 0.2174 - val_accuracy: 1.0000\n",
      "Epoch 51/150\n",
      "1/1 [==============================] - 0s 48ms/step - loss: 0.2144 - accuracy: 1.0000 - val_loss: 0.2136 - val_accuracy: 1.0000\n",
      "Epoch 52/150\n",
      "1/1 [==============================] - 0s 51ms/step - loss: 0.2119 - accuracy: 1.0000 - val_loss: 0.2098 - val_accuracy: 1.0000\n",
      "Epoch 53/150\n",
      "1/1 [==============================] - 0s 47ms/step - loss: 0.2105 - accuracy: 1.0000 - val_loss: 0.2061 - val_accuracy: 1.0000\n",
      "Epoch 54/150\n",
      "1/1 [==============================] - 0s 47ms/step - loss: 0.2087 - accuracy: 1.0000 - val_loss: 0.2025 - val_accuracy: 1.0000\n",
      "Epoch 55/150\n",
      "1/1 [==============================] - 0s 42ms/step - loss: 0.2023 - accuracy: 1.0000 - val_loss: 0.1989 - val_accuracy: 1.0000\n",
      "Epoch 56/150\n",
      "1/1 [==============================] - 0s 42ms/step - loss: 0.1981 - accuracy: 1.0000 - val_loss: 0.1954 - val_accuracy: 1.0000\n",
      "Epoch 57/150\n",
      "1/1 [==============================] - 0s 43ms/step - loss: 0.1960 - accuracy: 1.0000 - val_loss: 0.1920 - val_accuracy: 1.0000\n",
      "Epoch 58/150\n",
      "1/1 [==============================] - 0s 42ms/step - loss: 0.1921 - accuracy: 1.0000 - val_loss: 0.1886 - val_accuracy: 1.0000\n",
      "Epoch 59/150\n"
     ]
    },
    {
     "name": "stdout",
     "output_type": "stream",
     "text": [
      "1/1 [==============================] - 0s 42ms/step - loss: 0.1866 - accuracy: 1.0000 - val_loss: 0.1853 - val_accuracy: 1.0000\n",
      "Epoch 60/150\n",
      "1/1 [==============================] - 0s 45ms/step - loss: 0.1857 - accuracy: 1.0000 - val_loss: 0.1820 - val_accuracy: 1.0000\n",
      "Epoch 61/150\n",
      "1/1 [==============================] - 0s 42ms/step - loss: 0.1835 - accuracy: 1.0000 - val_loss: 0.1787 - val_accuracy: 1.0000\n",
      "Epoch 62/150\n",
      "1/1 [==============================] - 0s 43ms/step - loss: 0.1779 - accuracy: 1.0000 - val_loss: 0.1755 - val_accuracy: 1.0000\n",
      "Epoch 63/150\n",
      "1/1 [==============================] - 0s 39ms/step - loss: 0.1752 - accuracy: 1.0000 - val_loss: 0.1724 - val_accuracy: 1.0000\n",
      "Epoch 64/150\n",
      "1/1 [==============================] - 0s 47ms/step - loss: 0.1721 - accuracy: 1.0000 - val_loss: 0.1693 - val_accuracy: 1.0000\n",
      "Epoch 65/150\n",
      "1/1 [==============================] - 0s 42ms/step - loss: 0.1705 - accuracy: 1.0000 - val_loss: 0.1662 - val_accuracy: 1.0000\n",
      "Epoch 66/150\n",
      "1/1 [==============================] - 0s 44ms/step - loss: 0.1672 - accuracy: 1.0000 - val_loss: 0.1633 - val_accuracy: 1.0000\n",
      "Epoch 67/150\n",
      "1/1 [==============================] - 0s 41ms/step - loss: 0.1646 - accuracy: 1.0000 - val_loss: 0.1604 - val_accuracy: 1.0000\n",
      "Epoch 68/150\n",
      "1/1 [==============================] - 0s 39ms/step - loss: 0.1588 - accuracy: 1.0000 - val_loss: 0.1575 - val_accuracy: 1.0000\n",
      "Epoch 69/150\n",
      "1/1 [==============================] - 0s 46ms/step - loss: 0.1588 - accuracy: 1.0000 - val_loss: 0.1547 - val_accuracy: 1.0000\n",
      "Epoch 70/150\n",
      "1/1 [==============================] - 0s 42ms/step - loss: 0.1544 - accuracy: 1.0000 - val_loss: 0.1519 - val_accuracy: 1.0000\n",
      "Epoch 71/150\n",
      "1/1 [==============================] - 0s 47ms/step - loss: 0.1514 - accuracy: 1.0000 - val_loss: 0.1491 - val_accuracy: 1.0000\n",
      "Epoch 72/150\n",
      "1/1 [==============================] - 0s 43ms/step - loss: 0.1473 - accuracy: 1.0000 - val_loss: 0.1464 - val_accuracy: 1.0000\n",
      "Epoch 73/150\n",
      "1/1 [==============================] - 0s 46ms/step - loss: 0.1456 - accuracy: 1.0000 - val_loss: 0.1437 - val_accuracy: 1.0000\n",
      "Epoch 74/150\n",
      "1/1 [==============================] - 0s 45ms/step - loss: 0.1461 - accuracy: 1.0000 - val_loss: 0.1411 - val_accuracy: 1.0000\n",
      "Epoch 75/150\n",
      "1/1 [==============================] - 0s 44ms/step - loss: 0.1392 - accuracy: 1.0000 - val_loss: 0.1385 - val_accuracy: 1.0000\n",
      "Epoch 76/150\n",
      "1/1 [==============================] - 0s 42ms/step - loss: 0.1376 - accuracy: 1.0000 - val_loss: 0.1360 - val_accuracy: 1.0000\n",
      "Epoch 77/150\n",
      "1/1 [==============================] - 0s 39ms/step - loss: 0.1352 - accuracy: 1.0000 - val_loss: 0.1335 - val_accuracy: 1.0000\n",
      "Epoch 78/150\n",
      "1/1 [==============================] - 0s 42ms/step - loss: 0.1325 - accuracy: 1.0000 - val_loss: 0.1310 - val_accuracy: 1.0000\n",
      "Epoch 79/150\n",
      "1/1 [==============================] - 0s 42ms/step - loss: 0.1310 - accuracy: 1.0000 - val_loss: 0.1286 - val_accuracy: 1.0000\n",
      "Epoch 80/150\n",
      "1/1 [==============================] - 0s 42ms/step - loss: 0.1275 - accuracy: 1.0000 - val_loss: 0.1262 - val_accuracy: 1.0000\n",
      "Epoch 81/150\n",
      "1/1 [==============================] - 0s 43ms/step - loss: 0.1267 - accuracy: 1.0000 - val_loss: 0.1238 - val_accuracy: 1.0000\n",
      "Epoch 82/150\n",
      "1/1 [==============================] - 0s 41ms/step - loss: 0.1250 - accuracy: 1.0000 - val_loss: 0.1215 - val_accuracy: 1.0000\n",
      "Epoch 83/150\n",
      "1/1 [==============================] - 0s 43ms/step - loss: 0.1223 - accuracy: 1.0000 - val_loss: 0.1193 - val_accuracy: 1.0000\n",
      "Epoch 84/150\n",
      "1/1 [==============================] - 0s 48ms/step - loss: 0.1190 - accuracy: 1.0000 - val_loss: 0.1171 - val_accuracy: 1.0000\n",
      "Epoch 85/150\n",
      "1/1 [==============================] - 0s 42ms/step - loss: 0.1154 - accuracy: 1.0000 - val_loss: 0.1149 - val_accuracy: 1.0000\n",
      "Epoch 86/150\n",
      "1/1 [==============================] - 0s 43ms/step - loss: 0.1130 - accuracy: 1.0000 - val_loss: 0.1128 - val_accuracy: 1.0000\n",
      "Epoch 87/150\n",
      "1/1 [==============================] - 0s 42ms/step - loss: 0.1108 - accuracy: 1.0000 - val_loss: 0.1108 - val_accuracy: 1.0000\n",
      "Epoch 88/150\n",
      "1/1 [==============================] - 0s 39ms/step - loss: 0.1100 - accuracy: 1.0000 - val_loss: 0.1087 - val_accuracy: 1.0000\n",
      "Epoch 89/150\n",
      "1/1 [==============================] - 0s 42ms/step - loss: 0.1073 - accuracy: 1.0000 - val_loss: 0.1067 - val_accuracy: 1.0000\n",
      "Epoch 90/150\n",
      "1/1 [==============================] - 0s 45ms/step - loss: 0.1050 - accuracy: 1.0000 - val_loss: 0.1048 - val_accuracy: 1.0000\n",
      "Epoch 91/150\n",
      "1/1 [==============================] - 0s 41ms/step - loss: 0.1042 - accuracy: 1.0000 - val_loss: 0.1029 - val_accuracy: 1.0000\n",
      "Epoch 92/150\n",
      "1/1 [==============================] - 0s 42ms/step - loss: 0.1025 - accuracy: 1.0000 - val_loss: 0.1010 - val_accuracy: 1.0000\n",
      "Epoch 93/150\n",
      "1/1 [==============================] - 0s 44ms/step - loss: 0.0988 - accuracy: 1.0000 - val_loss: 0.0991 - val_accuracy: 1.0000\n",
      "Epoch 94/150\n",
      "1/1 [==============================] - 0s 47ms/step - loss: 0.0970 - accuracy: 1.0000 - val_loss: 0.0973 - val_accuracy: 1.0000\n",
      "Epoch 95/150\n",
      "1/1 [==============================] - 0s 44ms/step - loss: 0.0954 - accuracy: 1.0000 - val_loss: 0.0955 - val_accuracy: 1.0000\n",
      "Epoch 96/150\n",
      "1/1 [==============================] - 0s 45ms/step - loss: 0.0961 - accuracy: 1.0000 - val_loss: 0.0938 - val_accuracy: 1.0000\n",
      "Epoch 97/150\n",
      "1/1 [==============================] - 0s 43ms/step - loss: 0.0923 - accuracy: 1.0000 - val_loss: 0.0921 - val_accuracy: 1.0000\n",
      "Epoch 98/150\n",
      "1/1 [==============================] - 0s 44ms/step - loss: 0.0912 - accuracy: 1.0000 - val_loss: 0.0904 - val_accuracy: 1.0000\n",
      "Epoch 99/150\n",
      "1/1 [==============================] - 0s 44ms/step - loss: 0.0889 - accuracy: 1.0000 - val_loss: 0.0887 - val_accuracy: 1.0000\n",
      "Epoch 100/150\n",
      "1/1 [==============================] - 0s 39ms/step - loss: 0.0869 - accuracy: 1.0000 - val_loss: 0.0871 - val_accuracy: 1.0000\n",
      "Epoch 101/150\n",
      "1/1 [==============================] - 0s 41ms/step - loss: 0.0858 - accuracy: 1.0000 - val_loss: 0.0856 - val_accuracy: 1.0000\n",
      "Epoch 102/150\n",
      "1/1 [==============================] - 0s 46ms/step - loss: 0.0835 - accuracy: 1.0000 - val_loss: 0.0840 - val_accuracy: 1.0000\n",
      "Epoch 103/150\n",
      "1/1 [==============================] - 0s 44ms/step - loss: 0.0819 - accuracy: 1.0000 - val_loss: 0.0825 - val_accuracy: 1.0000\n",
      "Epoch 104/150\n",
      "1/1 [==============================] - 0s 43ms/step - loss: 0.0801 - accuracy: 1.0000 - val_loss: 0.0810 - val_accuracy: 1.0000\n",
      "Epoch 105/150\n",
      "1/1 [==============================] - 0s 45ms/step - loss: 0.0786 - accuracy: 1.0000 - val_loss: 0.0795 - val_accuracy: 1.0000\n",
      "Epoch 106/150\n",
      "1/1 [==============================] - 0s 52ms/step - loss: 0.0765 - accuracy: 1.0000 - val_loss: 0.0780 - val_accuracy: 1.0000\n",
      "Epoch 107/150\n",
      "1/1 [==============================] - 0s 44ms/step - loss: 0.0749 - accuracy: 1.0000 - val_loss: 0.0766 - val_accuracy: 1.0000\n",
      "Epoch 108/150\n",
      "1/1 [==============================] - 0s 41ms/step - loss: 0.0739 - accuracy: 1.0000 - val_loss: 0.0753 - val_accuracy: 1.0000\n",
      "Epoch 109/150\n",
      "1/1 [==============================] - 0s 43ms/step - loss: 0.0717 - accuracy: 1.0000 - val_loss: 0.0739 - val_accuracy: 1.0000\n",
      "Epoch 110/150\n",
      "1/1 [==============================] - 0s 46ms/step - loss: 0.0704 - accuracy: 1.0000 - val_loss: 0.0726 - val_accuracy: 1.0000\n",
      "Epoch 111/150\n",
      "1/1 [==============================] - 0s 39ms/step - loss: 0.0706 - accuracy: 1.0000 - val_loss: 0.0714 - val_accuracy: 1.0000\n",
      "Epoch 112/150\n",
      "1/1 [==============================] - 0s 43ms/step - loss: 0.0676 - accuracy: 1.0000 - val_loss: 0.0701 - val_accuracy: 1.0000\n",
      "Epoch 113/150\n",
      "1/1 [==============================] - 0s 43ms/step - loss: 0.0668 - accuracy: 1.0000 - val_loss: 0.0689 - val_accuracy: 1.0000\n",
      "Epoch 114/150\n",
      "1/1 [==============================] - 0s 42ms/step - loss: 0.0658 - accuracy: 1.0000 - val_loss: 0.0677 - val_accuracy: 1.0000\n",
      "Epoch 115/150\n",
      "1/1 [==============================] - 0s 42ms/step - loss: 0.0655 - accuracy: 1.0000 - val_loss: 0.0665 - val_accuracy: 1.0000\n",
      "Epoch 116/150\n",
      "1/1 [==============================] - 0s 43ms/step - loss: 0.0629 - accuracy: 1.0000 - val_loss: 0.0653 - val_accuracy: 1.0000\n",
      "Epoch 117/150\n"
     ]
    },
    {
     "name": "stdout",
     "output_type": "stream",
     "text": [
      "1/1 [==============================] - 0s 41ms/step - loss: 0.0619 - accuracy: 1.0000 - val_loss: 0.0641 - val_accuracy: 1.0000\n",
      "Epoch 118/150\n",
      "1/1 [==============================] - 0s 45ms/step - loss: 0.0601 - accuracy: 1.0000 - val_loss: 0.0629 - val_accuracy: 1.0000\n",
      "Epoch 119/150\n",
      "1/1 [==============================] - 0s 42ms/step - loss: 0.0588 - accuracy: 1.0000 - val_loss: 0.0618 - val_accuracy: 1.0000\n",
      "Epoch 120/150\n",
      "1/1 [==============================] - 0s 44ms/step - loss: 0.0605 - accuracy: 1.0000 - val_loss: 0.0607 - val_accuracy: 1.0000\n",
      "Epoch 121/150\n",
      "1/1 [==============================] - 0s 42ms/step - loss: 0.0574 - accuracy: 1.0000 - val_loss: 0.0596 - val_accuracy: 1.0000\n",
      "Epoch 122/150\n",
      "1/1 [==============================] - 0s 39ms/step - loss: 0.0557 - accuracy: 1.0000 - val_loss: 0.0585 - val_accuracy: 1.0000\n",
      "Epoch 123/150\n",
      "1/1 [==============================] - 0s 44ms/step - loss: 0.0546 - accuracy: 1.0000 - val_loss: 0.0575 - val_accuracy: 1.0000\n",
      "Epoch 124/150\n",
      "1/1 [==============================] - 0s 45ms/step - loss: 0.0535 - accuracy: 1.0000 - val_loss: 0.0565 - val_accuracy: 1.0000\n",
      "Epoch 125/150\n",
      "1/1 [==============================] - 0s 47ms/step - loss: 0.0532 - accuracy: 1.0000 - val_loss: 0.0555 - val_accuracy: 1.0000\n",
      "Epoch 126/150\n",
      "1/1 [==============================] - 0s 46ms/step - loss: 0.0518 - accuracy: 1.0000 - val_loss: 0.0545 - val_accuracy: 1.0000\n",
      "Epoch 127/150\n",
      "1/1 [==============================] - 0s 44ms/step - loss: 0.0500 - accuracy: 1.0000 - val_loss: 0.0536 - val_accuracy: 1.0000\n",
      "Epoch 128/150\n",
      "1/1 [==============================] - 0s 41ms/step - loss: 0.0491 - accuracy: 1.0000 - val_loss: 0.0527 - val_accuracy: 1.0000\n",
      "Epoch 129/150\n",
      "1/1 [==============================] - 0s 39ms/step - loss: 0.0500 - accuracy: 1.0000 - val_loss: 0.0519 - val_accuracy: 1.0000\n",
      "Epoch 130/150\n",
      "1/1 [==============================] - 0s 41ms/step - loss: 0.0472 - accuracy: 1.0000 - val_loss: 0.0511 - val_accuracy: 1.0000\n",
      "Epoch 131/150\n",
      "1/1 [==============================] - 0s 41ms/step - loss: 0.0469 - accuracy: 1.0000 - val_loss: 0.0504 - val_accuracy: 1.0000\n",
      "Epoch 132/150\n",
      "1/1 [==============================] - 0s 41ms/step - loss: 0.0464 - accuracy: 1.0000 - val_loss: 0.0497 - val_accuracy: 1.0000\n",
      "Epoch 133/150\n",
      "1/1 [==============================] - 0s 43ms/step - loss: 0.0465 - accuracy: 1.0000 - val_loss: 0.0490 - val_accuracy: 1.0000\n",
      "Epoch 134/150\n",
      "1/1 [==============================] - 0s 44ms/step - loss: 0.0446 - accuracy: 1.0000 - val_loss: 0.0484 - val_accuracy: 1.0000\n",
      "Epoch 135/150\n",
      "1/1 [==============================] - 0s 46ms/step - loss: 0.0429 - accuracy: 1.0000 - val_loss: 0.0477 - val_accuracy: 1.0000\n",
      "Epoch 136/150\n",
      "1/1 [==============================] - 0s 44ms/step - loss: 0.0421 - accuracy: 1.0000 - val_loss: 0.0470 - val_accuracy: 1.0000\n",
      "Epoch 137/150\n",
      "1/1 [==============================] - 0s 40ms/step - loss: 0.0417 - accuracy: 1.0000 - val_loss: 0.0463 - val_accuracy: 1.0000\n",
      "Epoch 138/150\n",
      "1/1 [==============================] - 0s 42ms/step - loss: 0.0421 - accuracy: 1.0000 - val_loss: 0.0456 - val_accuracy: 1.0000\n",
      "Epoch 139/150\n",
      "1/1 [==============================] - 0s 44ms/step - loss: 0.0406 - accuracy: 1.0000 - val_loss: 0.0448 - val_accuracy: 1.0000\n",
      "Epoch 140/150\n",
      "1/1 [==============================] - 0s 49ms/step - loss: 0.0398 - accuracy: 1.0000 - val_loss: 0.0441 - val_accuracy: 1.0000\n",
      "Epoch 141/150\n",
      "1/1 [==============================] - 0s 80ms/step - loss: 0.0393 - accuracy: 1.0000 - val_loss: 0.0433 - val_accuracy: 1.0000\n",
      "Epoch 142/150\n",
      "1/1 [==============================] - 0s 41ms/step - loss: 0.0379 - accuracy: 1.0000 - val_loss: 0.0426 - val_accuracy: 1.0000\n",
      "Epoch 143/150\n",
      "1/1 [==============================] - 0s 42ms/step - loss: 0.0374 - accuracy: 1.0000 - val_loss: 0.0418 - val_accuracy: 1.0000\n",
      "Epoch 144/150\n",
      "1/1 [==============================] - 0s 42ms/step - loss: 0.0379 - accuracy: 1.0000 - val_loss: 0.0412 - val_accuracy: 1.0000\n",
      "Epoch 145/150\n",
      "1/1 [==============================] - 0s 42ms/step - loss: 0.0353 - accuracy: 1.0000 - val_loss: 0.0407 - val_accuracy: 1.0000\n",
      "Epoch 146/150\n",
      "1/1 [==============================] - 0s 44ms/step - loss: 0.0347 - accuracy: 1.0000 - val_loss: 0.0401 - val_accuracy: 1.0000\n",
      "Epoch 147/150\n",
      "1/1 [==============================] - 0s 39ms/step - loss: 0.0350 - accuracy: 1.0000 - val_loss: 0.0395 - val_accuracy: 1.0000\n",
      "Epoch 148/150\n",
      "1/1 [==============================] - 0s 41ms/step - loss: 0.0340 - accuracy: 1.0000 - val_loss: 0.0390 - val_accuracy: 1.0000\n",
      "Epoch 149/150\n",
      "1/1 [==============================] - 0s 44ms/step - loss: 0.0338 - accuracy: 1.0000 - val_loss: 0.0383 - val_accuracy: 1.0000\n",
      "Epoch 150/150\n",
      "1/1 [==============================] - 0s 44ms/step - loss: 0.0327 - accuracy: 1.0000 - val_loss: 0.0376 - val_accuracy: 1.0000\n"
     ]
    }
   ],
   "source": [
    "# Compile your model with sgd\n",
    "prediction_model.compile(optimizer='adam', loss='sparse_categorical_crossentropy', metrics=['accuracy'])\n",
    "# Train the batch normalized model you recently built, store its history callback\n",
    "output = prediction_model.fit(x_train, y_train,64, validation_data=(x_test,y_test), epochs=150, verbose=1)"
   ]
  },
  {
   "cell_type": "code",
   "execution_count": 21,
   "metadata": {},
   "outputs": [
    {
     "name": "stdout",
     "output_type": "stream",
     "text": [
      "INFO:tensorflow:Assets written to: Final_Prediction_model\\assets\n"
     ]
    }
   ],
   "source": [
    "prediction_model.save('Final_Prediction_model')\n",
    "prediction_model.save_weights('Final_Prediction_model_weights')"
   ]
  },
  {
   "cell_type": "code",
   "execution_count": 22,
   "metadata": {},
   "outputs": [
    {
     "data": {
      "image/png": "[encoded data removed]",
      "text/plain": [
       "<Figure size 432x288 with 1 Axes>"
      ]
     },
     "metadata": {
      "needs_background": "light"
     },
     "output_type": "display_data"
    }
   ],
   "source": [
    "plt.plot(output.history['accuracy'],label='Accuracy', color= \"Green\", linewidth='3')\n",
    "plt.xlabel('Epochs')\n",
    "plt.ylabel('Accuracy')\n",
    "plt.title('Epochs Vs Accuracy')\n",
    "plt.legend()\n",
    "plt.show()"
   ]
  },
  {
   "cell_type": "code",
   "execution_count": 23,
   "metadata": {},
   "outputs": [
    {
     "data": {
      "image/png": "[encoded data removed]",
      "text/plain": [
       "<Figure size 432x288 with 1 Axes>"
      ]
     },
     "metadata": {
      "needs_background": "light"
     },
     "output_type": "display_data"
    }
   ],
   "source": [
    "plt.plot(output.history['val_accuracy'],label='Validation Accuracy', linewidth='3')\n",
    "plt.xlabel('Epochs')\n",
    "plt.ylabel('Validation Accuracy')\n",
    "plt.title('Number of Epochs Vs Validation Accuracy')\n",
    "plt.legend()\n",
    "plt.show()"
   ]
  },
  {
   "cell_type": "code",
   "execution_count": 24,
   "metadata": {},
   "outputs": [
    {
     "data": {
      "image/png": "[encoded data removed]",
      "text/plain": [
       "<Figure size 432x288 with 1 Axes>"
      ]
     },
     "metadata": {
      "needs_background": "light"
     },
     "output_type": "display_data"
    }
   ],
   "source": [
    "plt.plot(output.history['loss'],label='Loss', color= \"red\", linewidth= '3')\n",
    "plt.xlabel('Epochs')\n",
    "plt.ylabel('Loss')\n",
    "plt.title('Number of Epochs and Loss')\n",
    "plt.legend()\n",
    "plt.show()"
   ]
  },
  {
   "cell_type": "code",
   "execution_count": null,
   "metadata": {},
   "outputs": [],
   "source": []
  },
  {
   "cell_type": "code",
   "execution_count": null,
   "metadata": {},
   "outputs": [],
   "source": []
  },
  {
   "cell_type": "code",
   "execution_count": null,
   "metadata": {},
   "outputs": [],
   "source": []
  }
 ],
 "metadata": {
  "kernelspec": {
   "display_name": "Python 3",
   "language": "python",
   "name": "python3"
  },
  "language_info": {
   "codemirror_mode": {
    "name": "ipython",
    "version": 3
   },
   "file_extension": ".py",
   "mimetype": "text/x-python",
   "name": "python",
   "nbconvert_exporter": "python",
   "pygments_lexer": "ipython3",
   "version": "3.8.5"
  }
 },
 "nbformat": 4,
 "nbformat_minor": 4
}
